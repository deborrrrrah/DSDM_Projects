{
 "cells": [
  {
   "cell_type": "markdown",
   "metadata": {},
   "source": [
    "# Fraud Detection"
   ]
  },
  {
   "cell_type": "markdown",
   "metadata": {},
   "source": [
    "## Data Analysis"
   ]
  },
  {
   "cell_type": "code",
   "execution_count": null,
   "metadata": {},
   "outputs": [],
   "source": [
    "import glob\n",
    "import pandas as pd\n",
    "import numpy as np\n",
    "\n",
    "input_filenames = sorted(glob.glob('fraud_detection/*.Inputs'))\n",
    "target_filenames = sorted(glob.glob('fraud_detection/*.Targets'))\n",
    "\n",
    "df = pd.DataFrame()\n",
    "for input_file, target_file in zip(input_filenames, target_filenames):\n",
    "    df = df.append(pd.read_csv(input_file))\n",
    "    df['fraud'] = pd.read_csv(target_file)\n",
    "\n",
    "df.head()"
   ]
  },
  {
   "cell_type": "markdown",
   "metadata": {},
   "source": [
    "### Dataset Profiling Report"
   ]
  },
  {
   "cell_type": "code",
   "execution_count": null,
   "metadata": {},
   "outputs": [],
   "source": [
    "# import pandas_profiling\n",
    "\n",
    "# profile = pandas_profiling.ProfileReport(df)\n",
    "# profile.to_file(output_file=\"ProfilingResult.html\")"
   ]
  },
  {
   "cell_type": "code",
   "execution_count": null,
   "metadata": {},
   "outputs": [],
   "source": [
    "# profile"
   ]
  },
  {
   "cell_type": "markdown",
   "metadata": {},
   "source": [
    "### Rows containing null values"
   ]
  },
  {
   "cell_type": "code",
   "execution_count": null,
   "metadata": {},
   "outputs": [],
   "source": [
    "df[pd.isnull(df).any(axis=1)]"
   ]
  },
  {
   "cell_type": "markdown",
   "metadata": {},
   "source": [
    "## Data Preprocessing"
   ]
  },
  {
   "cell_type": "markdown",
   "metadata": {},
   "source": [
    "Drop highly correlated columns"
   ]
  },
  {
   "cell_type": "code",
   "execution_count": null,
   "metadata": {},
   "outputs": [],
   "source": [
    "clean_df = df.drop(columns=['hour2', 'domain1', 'total'])\n",
    "clean_df.head()"
   ]
  },
  {
   "cell_type": "code",
   "execution_count": null,
   "metadata": {},
   "outputs": [],
   "source": [
    "clean_df = clean_df.dropna()\n",
    "clean_df = clean_df.drop_duplicates()"
   ]
  },
  {
   "cell_type": "code",
   "execution_count": null,
   "metadata": {},
   "outputs": [],
   "source": [
    "clean_df['state1'] = clean_df['state1'].astype('category')\n",
    "clean_df['state1'] = clean_df['state1'].cat.codes\n",
    "\n",
    "clean_df.head()"
   ]
  },
  {
   "cell_type": "code",
   "execution_count": null,
   "metadata": {},
   "outputs": [],
   "source": [
    "clean_df.shape"
   ]
  },
  {
   "cell_type": "markdown",
   "metadata": {},
   "source": [
    "## Split dataset"
   ]
  },
  {
   "cell_type": "code",
   "execution_count": null,
   "metadata": {},
   "outputs": [],
   "source": [
    "from sklearn.model_selection import train_test_split\n",
    "\n",
    "X = clean_df.drop(columns=['fraud'])\n",
    "y = clean_df['fraud']\n",
    "\n",
    "X_train, X_test, y_train, y_test = train_test_split(X, y, test_size=0.25, stratify=y)"
   ]
  },
  {
   "cell_type": "code",
   "execution_count": null,
   "metadata": {},
   "outputs": [],
   "source": [
    "X_train"
   ]
  },
  {
   "cell_type": "code",
   "execution_count": null,
   "metadata": {},
   "outputs": [],
   "source": [
    "# import pandas_profiling\n",
    "\n",
    "# profile = pandas_profiling.ProfileReport(df_train)\n",
    "# profile.to_file(output_file=\"PreprocessedProfilingResult.html\")"
   ]
  },
  {
   "cell_type": "markdown",
   "metadata": {},
   "source": [
    "## Oversampling & Undersampling"
   ]
  },
  {
   "cell_type": "markdown",
   "metadata": {},
   "source": [
    "### Oversampling Approach"
   ]
  },
  {
   "cell_type": "code",
   "execution_count": null,
   "metadata": {},
   "outputs": [],
   "source": [
    "from imblearn.over_sampling import SMOTE\n",
    "\n",
    "smote = SMOTE(ratio='minority')\n",
    "X_train_oversampling = X_train\n",
    "y_train_oversampling = y_train\n",
    "X_res, y_res = smote.fit_resample(X_train_oversampling, y_train_oversampling)\n",
    "\n",
    "dataset_res = []\n",
    "for i in range(len(y_res)):\n",
    "    dataset_res.append(np.append(X_res[i], y_res[i]))\n",
    "\n",
    "dataset_res = np.asarray(dataset_res)\n",
    "dataset_res.shape\n",
    "dataset_res"
   ]
  },
  {
   "cell_type": "code",
   "execution_count": null,
   "metadata": {},
   "outputs": [],
   "source": [
    "dataset_res[0]"
   ]
  },
  {
   "cell_type": "code",
   "execution_count": null,
   "metadata": {},
   "outputs": [],
   "source": [
    "columns = X.columns.tolist()\n",
    "columns.append('fraud')\n",
    "\n",
    "oversampled_df = pd.DataFrame(dataset_res, columns=columns)\n",
    "oversampled_df"
   ]
  },
  {
   "cell_type": "code",
   "execution_count": null,
   "metadata": {},
   "outputs": [],
   "source": [
    "# import pandas_profiling\n",
    "\n",
    "# profile = pandas_profiling.ProfileReport(oversampled_df)\n",
    "# profile.to_file(output_file=\"OversampledProfilingResult.html\")"
   ]
  },
  {
   "cell_type": "code",
   "execution_count": null,
   "metadata": {},
   "outputs": [],
   "source": [
    "oversampled_df['fraud'].value_counts()"
   ]
  },
  {
   "cell_type": "markdown",
   "metadata": {},
   "source": [
    "### Undersampling Approach"
   ]
  },
  {
   "cell_type": "code",
   "execution_count": null,
   "metadata": {},
   "outputs": [],
   "source": [
    "from imblearn.under_sampling import RepeatedEditedNearestNeighbours \n",
    "from sklearn.datasets import make_classification\n",
    "from collections import Counter\n",
    "\n",
    "X_train_undersampling = X_train\n",
    "y_train_undersampling = y_train\n",
    "# print (y_train_undersampling)\n",
    "print (X_train_undersampling.shape)\n",
    "\n",
    "renn = RepeatedEditedNearestNeighbours (sampling_strategy='majority')\n",
    "X_res, y_res = renn.fit_resample(X_train_undersampling, y_train_undersampling)\n",
    "# print (y)\n",
    "print (X_res.shape)"
   ]
  },
  {
   "cell_type": "code",
   "execution_count": null,
   "metadata": {
    "scrolled": true
   },
   "outputs": [],
   "source": [
    "dataset_res = []\n",
    "for i in range(len(y_res)):\n",
    "    dataset_res.append(np.append(X_res[i], y_res[i]))\n",
    "\n",
    "dataset_res = np.asarray(dataset_res)\n",
    "\n",
    "undersampled_df = pd.DataFrame(dataset_res, columns=columns)\n",
    "undersampled_df"
   ]
  },
  {
   "cell_type": "code",
   "execution_count": null,
   "metadata": {},
   "outputs": [],
   "source": [
    "undersampled_df['fraud'].value_counts()"
   ]
  },
  {
   "cell_type": "code",
   "execution_count": null,
   "metadata": {},
   "outputs": [],
   "source": [
    "y_train.value_counts()"
   ]
  },
  {
   "cell_type": "markdown",
   "metadata": {},
   "source": [
    "### Hybrid Approach"
   ]
  },
  {
   "cell_type": "code",
   "execution_count": null,
   "metadata": {},
   "outputs": [],
   "source": [
    "from imblearn.combine import SMOTEENN\n",
    "\n",
    "X_train_combine = X_train\n",
    "y_train_combine = y_train\n",
    "\n",
    "print (X_train_combine.shape)\n",
    "\n",
    "sme = SMOTEENN(sampling_strategy='minority', ratio=1)\n",
    "X_res, y_res = sme.fit_resample(X_train_combine, y_train_combine)\n",
    "\n",
    "print (X_res.shape)"
   ]
  },
  {
   "cell_type": "code",
   "execution_count": null,
   "metadata": {},
   "outputs": [],
   "source": [
    "dataset_res = []\n",
    "for i in range(len(y_res)):\n",
    "    dataset_res.append(np.append(X_res[i], y_res[i]))\n",
    "\n",
    "dataset_res = np.asarray(dataset_res)\n",
    "\n",
    "combined_df = pd.DataFrame(dataset_res, columns=columns)\n",
    "combined_df"
   ]
  },
  {
   "cell_type": "code",
   "execution_count": null,
   "metadata": {},
   "outputs": [],
   "source": [
    "combined_df['fraud'].value_counts()"
   ]
  },
  {
   "cell_type": "markdown",
   "metadata": {},
   "source": [
    "## Model and Evaluation"
   ]
  },
  {
   "cell_type": "code",
   "execution_count": null,
   "metadata": {},
   "outputs": [],
   "source": [
    "# from sklearn.model_selection import StratifiedKFold\n",
    "# from sklearn.naive_bayes import MultinomialNB\n",
    "# from sklearn.metrics import accuracy_score\n",
    "\n",
    "# X = oversampled_df.drop(columns=['fraud']).to_numpy()\n",
    "# y = oversampled_df['fraud']\n",
    "\n",
    "# model = MultinomialNB(alpha=1e-10)\n",
    "\n",
    "# kf = StratifiedKFold(n_splits=10)\n",
    "# for train_index, test_index in kf.split(X, y):\n",
    "#     X_train_model, X_validation_model = X[train_index], X[test_index]\n",
    "#     y_train_model, y_validation_model = y[train_index], y[test_index]\n",
    "#     model.fit(X_train_model, y_train_model)\n",
    "#     predict = model.predict(X_validation_model)\n",
    "#     print (\"Accuracy\\t\", accuracy_score(y_validation_model, predict))"
   ]
  },
  {
   "cell_type": "code",
   "execution_count": null,
   "metadata": {},
   "outputs": [],
   "source": [
    "def show_history(history):\n",
    "    plt.plot(history.history['accuracy'])\n",
    "    plt.plot(history.history['val_accuracy'])\n",
    "    plt.title('model accuracy')\n",
    "    plt.ylabel('accuracy')\n",
    "    plt.xlabel('epoch')\n",
    "    plt.legend(['train', 'validation'], loc='upper left')\n",
    "    plt.show()\n",
    "    # summarize history for loss\n",
    "    plt.plot(history.history['loss'])\n",
    "    plt.plot(history.history['val_loss'])\n",
    "    plt.title('model loss')\n",
    "    plt.ylabel('loss')\n",
    "    plt.xlabel('epoch')\n",
    "    plt.legend(['train', 'validation'], loc='upper left')\n",
    "    plt.show()"
   ]
  },
  {
   "cell_type": "code",
   "execution_count": null,
   "metadata": {},
   "outputs": [],
   "source": [
    "from sklearn.model_selection import StratifiedKFold\n",
    "from keras.models import Sequential\n",
    "from keras.layers import Dense\n",
    "from sklearn.metrics import accuracy_score\n",
    "from sklearn.metrics import classification_report\n",
    "\n",
    "X = combined_df.drop(columns=['fraud']).to_numpy()\n",
    "y = combined_df['fraud']\n",
    "\n",
    "model = Sequential()\n",
    "model.add(Dense(50, input_dim=16, kernel_initializer='uniform', activation='tanh'))\n",
    "model.add(Dense(10, kernel_initializer='uniform', activation='relu'))\n",
    "model.add(Dense(1, kernel_initializer='uniform', activation='relu'))\n",
    "model.compile(loss='binary_crossentropy', optimizer='adam', metrics=['accuracy', 'mae'])\n",
    "\n",
    "kf = StratifiedKFold(n_splits=10)\n",
    "for train_index, test_index in kf.split(X, y):\n",
    "    X_train_model, X_validation_model = X[train_index], X[test_index]\n",
    "    y_train_model, y_validation_model = y[train_index], y[test_index]\n",
    "    history = model.fit(X_train_model, y_train_model, epochs=200, batch_size=10,  verbose=1)\n",
    "    predict = model.predict_classes(X_validation_model)\n",
    "    print (\"Accuracy\\t\", accuracy_score(y_validation_model, predict))\n",
    "    print(classification_report(y_validation_model, predict, target_names=['0', '1']))\n",
    "    show_history(history)"
   ]
  },
  {
   "cell_type": "code",
   "execution_count": null,
   "metadata": {},
   "outputs": [],
   "source": [
    "# from sklearn.metrics import classification_report\n",
    "\n",
    "# predict_test = model.predict_classes(X_test)\n",
    "# print (\"Accuracy\\t\", accuracy_score(y_test, predict_test))\n",
    "# print(classification_report(y_test, predict_test, target_names=['0', '1']))"
   ]
  },
  {
   "cell_type": "code",
   "execution_count": null,
   "metadata": {},
   "outputs": [],
   "source": []
  }
 ],
 "metadata": {
  "kernelspec": {
   "display_name": "Python 3",
   "language": "python",
   "name": "python3"
  },
  "language_info": {
   "codemirror_mode": {
    "name": "ipython",
    "version": 3
   },
   "file_extension": ".py",
   "mimetype": "text/x-python",
   "name": "python",
   "nbconvert_exporter": "python",
   "pygments_lexer": "ipython3",
   "version": "3.7.3"
  }
 },
 "nbformat": 4,
 "nbformat_minor": 2
}
